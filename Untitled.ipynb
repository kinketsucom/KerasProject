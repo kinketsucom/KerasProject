{
 "cells": [
  {
   "cell_type": "code",
   "execution_count": 1,
   "metadata": {},
   "outputs": [
    {
     "name": "stderr",
     "output_type": "stream",
     "text": [
      "Using TensorFlow backend.\n"
     ]
    }
   ],
   "source": [
    "import keras\n",
    "from keras.models import Sequential\n",
    "from keras.layers import Dense, Activation,  Dropout\n",
    "from keras.layers.convolutional import Conv2D, MaxPooling2D\n",
    "import cv2\n",
    "from PIL import Image\n",
    "import matplotlib.pyplot as plt\n",
    "import numpy as np# 元となる画像の読み込み\n",
    "%matplotlib inline"
   ]
  },
  {
   "cell_type": "code",
   "execution_count": 2,
   "metadata": {},
   "outputs": [],
   "source": [
    "# opencv画像入力用\n",
    "from IPython.display import display, Image\n",
    "\n",
    "def display_cv_image(image, format='.JPG'):\n",
    "    decoded_bytes = cv2.imencode(format, image)[1].tobytes()\n",
    "    display(Image(data=decoded_bytes))\n",
    "\n",
    "def readyForGuess(img_name):\n",
    "    img = cv2.imread( \"./img/\"+img_name+\".jpg\", cv2.IMREAD_GRAYSCALE)\n",
    "    width = 40\n",
    "    size = (3*width,4*width)\n",
    "    #Create Small Size Image\n",
    "    length=size[0]*size[1]\n",
    "    img = cv2.resize(img, size)\n",
    "    img_dat = img/255\n",
    "    img_dat = img_dat.reshape(1,length)\n",
    "    return img_dat"
   ]
  },
  {
   "cell_type": "code",
   "execution_count": 3,
   "metadata": {},
   "outputs": [],
   "source": [
    "# 元となる画像の読み込み\n",
    "bef_img = cv2.imread( './img/bef.JPG', cv2.IMREAD_GRAYSCALE)\n",
    "aft_img = cv2.imread('./img/aft.JPG', cv2.IMREAD_GRAYSCALE) "
   ]
  },
  {
   "cell_type": "code",
   "execution_count": 4,
   "metadata": {},
   "outputs": [],
   "source": [
    "width = 10\n",
    "size = (3*width,4*width)\n",
    "#Create Small Size Image\n",
    "bef_img = cv2.resize(bef_img, size)\n",
    "aft_img = cv2.resize(aft_img, size)"
   ]
  },
  {
   "cell_type": "code",
   "execution_count": 8,
   "metadata": {},
   "outputs": [],
   "source": [
    "bef_dat = bef_img/255\n",
    "aft_dat = aft_img/255\n",
    "hoge = bef_dat\n",
    "length=size[0]*size[1]\n",
    "bef_dat = bef_dat.reshape(1,length)\n",
    "aft_dat = aft_dat.reshape(1,length)"
   ]
  },
  {
   "cell_type": "markdown",
   "metadata": {},
   "source": [
    "# ニューラルネットを作成"
   ]
  },
  {
   "cell_type": "code",
   "execution_count": null,
   "metadata": {},
   "outputs": [
    {
     "name": "stdout",
     "output_type": "stream",
     "text": [
      "_________________________________________________________________\n",
      "Layer (type)                 Output Shape              Param #   \n",
      "=================================================================\n",
      "dense_3 (Dense)              (None, 19200)             368659200 \n",
      "_________________________________________________________________\n",
      "activation_2 (Activation)    (None, 19200)             0         \n",
      "_________________________________________________________________\n",
      "dense_4 (Dense)              (None, 19200)             368659200 \n",
      "=================================================================\n",
      "Total params: 737,318,400\n",
      "Trainable params: 737,318,400\n",
      "Non-trainable params: 0\n",
      "_________________________________________________________________\n"
     ]
    }
   ],
   "source": [
    "NN = Sequential() #空のニューラルネット\n",
    "NN.add(Dense(length, input_dim=length))\n",
    "NN.add(Activation('relu'))\n",
    "NN.add(Dense(length))\n",
    "NN.summary()\n",
    "NN.compile(optimizer='rmsprop',loss='cosine_proximity',metrics = ['accuracy'])"
   ]
  },
  {
   "cell_type": "code",
   "execution_count": null,
   "metadata": {},
   "outputs": [
    {
     "name": "stdout",
     "output_type": "stream",
     "text": [
      "Epoch 1/1\n"
     ]
    }
   ],
   "source": [
    "NN.fit(aft_dat,bef_dat, epochs=1)"
   ]
  },
  {
   "cell_type": "code",
   "execution_count": null,
   "metadata": {},
   "outputs": [],
   "source": []
  }
 ],
 "metadata": {
  "kernelspec": {
   "display_name": "Python 3",
   "language": "python",
   "name": "python3"
  },
  "language_info": {
   "codemirror_mode": {
    "name": "ipython",
    "version": 3
   },
   "file_extension": ".py",
   "mimetype": "text/x-python",
   "name": "python",
   "nbconvert_exporter": "python",
   "pygments_lexer": "ipython3",
   "version": "3.6.1"
  }
 },
 "nbformat": 4,
 "nbformat_minor": 2
}
