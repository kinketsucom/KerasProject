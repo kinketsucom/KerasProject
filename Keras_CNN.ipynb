{
 "cells": [
  {
   "cell_type": "code",
   "execution_count": 4,
   "metadata": {},
   "outputs": [],
   "source": [
    "# 必要なライブラリのインクルード\n",
    "import os\n",
    "import re\n",
    "import keras\n",
    "from keras.models import Sequential\n",
    "from keras.layers import Dense, Activation,  Dropout\n",
    "from keras.layers.convolutional import Conv2D, MaxPooling2D\n",
    "import cv2\n",
    "from PIL import Image\n",
    "import matplotlib.pyplot as plt\n",
    "import numpy as np# 元となる画像の読み込み\n",
    "%matplotlib inline"
   ]
  },
  {
   "cell_type": "markdown",
   "metadata": {},
   "source": [
    "# 関数定義"
   ]
  },
  {
   "cell_type": "code",
   "execution_count": 8,
   "metadata": {},
   "outputs": [],
   "source": [
    "# opencv画像入力用\n",
    "from IPython.display import display, Image\n",
    "\n",
    "def display_cv_image(image, format='.JPG'):\n",
    "    decoded_bytes = cv2.imencode(format, image)[1].tobytes()\n",
    "    display(Image(data=decoded_bytes))\n",
    "\n",
    "def readyForGuess(img_nam,width):\n",
    "    img = cv2.imread( \"./img/\"+img_name+\".jpg\", cv2.IMREAD_GRAYSCALE)\n",
    "    size = (3*width,4*width)\n",
    "    #Create Small Size Image\n",
    "    length=size[0]*size[1]\n",
    "    img = cv2.resize(img, size)\n",
    "    img_dat = img/255\n",
    "    img_dat = img_dat.reshape(1,length)\n",
    "    return img_dat"
   ]
  },
  {
   "cell_type": "markdown",
   "metadata": {},
   "source": [
    " # 学習画像入力"
   ]
  },
  {
   "cell_type": "code",
   "execution_count": 126,
   "metadata": {},
   "outputs": [],
   "source": [
    "#画像読み込みします\n",
    "width = 60\n",
    "size = (3*width,4*width)\n",
    "length=size[0]*size[1]\n",
    "\n",
    "bef_img = []\n",
    "aft_img = []\n",
    "\n",
    "dir = os.getcwd()# カレントディレクトリのパスを取得\n",
    "\n",
    "\n",
    "#positive\n",
    "pos_dir = dir+\"/img/pos/\"\n",
    "files = os.listdir(pos_dir)# ファイルのリストを取得\n",
    "for file in files:# ファイルの数だけループ\n",
    "    index = re.search('.JPG', file)# 拡張子がjpgのものを検出\n",
    "    if index:# jpgの時だけ\n",
    "        read_img = cv2.imread( pos_dir+file)\n",
    "        read_img = cv2.resize(read_img, size)\n",
    "        read_img = read_img/255\n",
    "        bef_img.append(read_img)\n",
    "# #negative\n",
    "neg_dir = dir+\"/img/neg/\"\n",
    "files = os.listdir(neg_dir)# ファイルのリストを取得\n",
    "for file in files:# ファイルの数だけループ\n",
    "    index = re.search('.JPG', file)# 拡張子がjpgのものを検出\n",
    "    if index:# jpgの時だけ\n",
    "        read_img = cv2.imread( neg_dir+file)\n",
    "        read_img = cv2.resize(read_img, size)\n",
    "        read_img = read_img/255\n",
    "        aft_img.append(read_img)\n",
    "\n",
    "# arrayに変換\n",
    "bef_img = np.asarray(bef_img)\n",
    "aft_img = np.asarray(aft_img)"
   ]
  },
  {
   "cell_type": "code",
   "execution_count": null,
   "metadata": {},
   "outputs": [],
   "source": []
  },
  {
   "cell_type": "markdown",
   "metadata": {},
   "source": [
    "# モデルの形成"
   ]
  },
  {
   "cell_type": "code",
   "execution_count": 127,
   "metadata": {},
   "outputs": [
    {
     "name": "stdout",
     "output_type": "stream",
     "text": [
      "_________________________________________________________________\n",
      "Layer (type)                 Output Shape              Param #   \n",
      "=================================================================\n",
      "conv2d_52 (Conv2D)           (None, 240, 180, 3)       3603      \n",
      "_________________________________________________________________\n",
      "activation_38 (Activation)   (None, 240, 180, 3)       0         \n",
      "=================================================================\n",
      "Total params: 3,603\n",
      "Trainable params: 3,603\n",
      "Non-trainable params: 0\n",
      "_________________________________________________________________\n"
     ]
    }
   ],
   "source": [
    "model = Sequential()\n",
    "model.add(Conv2D(3, (20, 20), padding='same',data_format=\"channels_last\" ,input_shape=(size[1], size[0], 3) ))\n",
    "model.add(Activation('relu'))\n",
    "\n",
    "# コンパイル\n",
    "model.compile(loss='mse',optimizer='SGD',metrics=['accuracy'])\n",
    "model.summary()"
   ]
  },
  {
   "cell_type": "markdown",
   "metadata": {},
   "source": [
    "# モデルの学習"
   ]
  },
  {
   "cell_type": "code",
   "execution_count": 128,
   "metadata": {},
   "outputs": [
    {
     "name": "stdout",
     "output_type": "stream",
     "text": [
      "Epoch 1/100\n",
      "9/9 [==============================] - 2s - loss: 0.3547 - acc: 0.5855     \n",
      "Epoch 2/100\n",
      "9/9 [==============================] - 2s - loss: 0.2058 - acc: 0.3832     \n",
      "Epoch 3/100\n",
      "9/9 [==============================] - 2s - loss: 0.2204 - acc: 0.3984     \n",
      "Epoch 4/100\n",
      "9/9 [==============================] - 2s - loss: 0.2684 - acc: 0.5009     \n",
      "Epoch 5/100\n",
      "9/9 [==============================] - 2s - loss: 0.2304 - acc: 0.4037     \n",
      "Epoch 6/100\n",
      "9/9 [==============================] - 2s - loss: 0.1814 - acc: 0.5360     \n",
      "Epoch 7/100\n",
      "9/9 [==============================] - 2s - loss: 0.2632 - acc: 0.3222     \n",
      "Epoch 8/100\n",
      "9/9 [==============================] - 2s - loss: 0.2616 - acc: 0.3001     \n",
      "Epoch 9/100\n",
      "9/9 [==============================] - 2s - loss: 0.1828 - acc: 0.4666     \n",
      "Epoch 10/100\n",
      "9/9 [==============================] - 2s - loss: 0.2499 - acc: 0.4973     \n",
      "Epoch 11/100\n",
      "9/9 [==============================] - 2s - loss: 0.2535 - acc: 0.3545     \n",
      "Epoch 12/100\n",
      "9/9 [==============================] - 2s - loss: 0.3631 - acc: 0.3085     \n",
      "Epoch 13/100\n",
      "9/9 [==============================] - 2s - loss: 0.3161 - acc: 0.5752     \n",
      "Epoch 14/100\n",
      "9/9 [==============================] - 2s - loss: 0.3297 - acc: 0.2743     \n",
      "Epoch 15/100\n",
      "9/9 [==============================] - 2s - loss: 0.2591 - acc: 0.3839     \n",
      "Epoch 16/100\n",
      "9/9 [==============================] - 2s - loss: 0.2756 - acc: 0.4471     \n",
      "Epoch 17/100\n",
      "9/9 [==============================] - 3s - loss: 0.2685 - acc: 0.4111     \n",
      "Epoch 18/100\n",
      "9/9 [==============================] - 2s - loss: 0.2203 - acc: 0.3328     \n",
      "Epoch 19/100\n",
      "9/9 [==============================] - 2s - loss: 0.1659 - acc: 0.5474     \n",
      "Epoch 20/100\n",
      "9/9 [==============================] - 3s - loss: 0.1904 - acc: 0.4180     \n",
      "Epoch 21/100\n",
      "9/9 [==============================] - 2s - loss: 0.2338 - acc: 0.2282     \n",
      "Epoch 22/100\n",
      "9/9 [==============================] - 2s - loss: 0.1429 - acc: 0.5474     \n",
      "Epoch 23/100\n",
      "9/9 [==============================] - 2s - loss: 0.2177 - acc: 0.3459     \n",
      "Epoch 24/100\n",
      "9/9 [==============================] - 2s - loss: 0.2687 - acc: 0.1984     \n",
      "Epoch 25/100\n",
      "9/9 [==============================] - 2s - loss: 0.1646 - acc: 0.5568     \n",
      "Epoch 26/100\n",
      "9/9 [==============================] - 2s - loss: 0.3003 - acc: 0.4830     \n",
      "Epoch 27/100\n",
      "9/9 [==============================] - 2s - loss: 0.2926 - acc: 0.5608     \n",
      "Epoch 28/100\n",
      "9/9 [==============================] - 2s - loss: 0.3679 - acc: 0.3907     \n",
      "Epoch 29/100\n",
      "9/9 [==============================] - 2s - loss: 0.2591 - acc: 0.4925     \n",
      "Epoch 30/100\n",
      "9/9 [==============================] - 2s - loss: 0.4330 - acc: 0.3125     \n",
      "Epoch 31/100\n",
      "9/9 [==============================] - 3s - loss: 0.3409 - acc: 0.5963     \n",
      "Epoch 32/100\n",
      "9/9 [==============================] - 2s - loss: 0.2919 - acc: 0.5960     \n",
      "Epoch 33/100\n",
      "9/9 [==============================] - 2s - loss: 0.3226 - acc: 0.6050     \n",
      "Epoch 34/100\n",
      "9/9 [==============================] - 2s - loss: 0.3782 - acc: 0.4562     \n",
      "Epoch 35/100\n",
      "9/9 [==============================] - 2s - loss: 0.3327 - acc: 0.5939     \n",
      "Epoch 36/100\n",
      "9/9 [==============================] - 2s - loss: 0.3769 - acc: 0.6133     \n",
      "Epoch 37/100\n",
      "9/9 [==============================] - 2s - loss: 0.2915 - acc: 0.5794     \n",
      "Epoch 38/100\n",
      "9/9 [==============================] - 3s - loss: 0.2864 - acc: 0.3483     \n",
      "Epoch 39/100\n",
      "9/9 [==============================] - 3s - loss: 0.2064 - acc: 0.5982     \n",
      "Epoch 40/100\n",
      "9/9 [==============================] - 2s - loss: 0.2851 - acc: 0.5642     \n",
      "Epoch 41/100\n",
      "9/9 [==============================] - 2s - loss: 0.3961 - acc: 0.5406     \n",
      "Epoch 42/100\n",
      "9/9 [==============================] - 2s - loss: 0.3913 - acc: 0.2571     \n",
      "Epoch 43/100\n",
      "9/9 [==============================] - 3s - loss: 0.2946 - acc: 0.6031     \n",
      "Epoch 44/100\n",
      "9/9 [==============================] - 2s - loss: 0.2637 - acc: 0.6095     \n",
      "Epoch 45/100\n",
      "9/9 [==============================] - 2s - loss: 0.2532 - acc: 0.3466     \n",
      "Epoch 46/100\n",
      "9/9 [==============================] - 3s - loss: 0.2225 - acc: 0.3543     \n",
      "Epoch 47/100\n",
      "9/9 [==============================] - 3s - loss: 0.2796 - acc: 0.4803     \n",
      "Epoch 48/100\n",
      "9/9 [==============================] - 2s - loss: 0.3763 - acc: 0.3865     \n",
      "Epoch 49/100\n",
      "9/9 [==============================] - 2s - loss: 0.3553 - acc: 0.2183     \n",
      "Epoch 50/100\n",
      "9/9 [==============================] - 2s - loss: 0.3517 - acc: 0.2864     \n",
      "Epoch 51/100\n",
      "9/9 [==============================] - 2s - loss: 0.2202 - acc: 0.5078     \n",
      "Epoch 52/100\n",
      "9/9 [==============================] - 2s - loss: 0.2487 - acc: 0.4124     \n",
      "Epoch 53/100\n",
      "9/9 [==============================] - 2s - loss: 0.3427 - acc: 0.4282     \n",
      "Epoch 54/100\n",
      "9/9 [==============================] - 2s - loss: 0.3122 - acc: 0.2566     \n",
      "Epoch 55/100\n",
      "9/9 [==============================] - 2s - loss: 0.3962 - acc: 0.2785     \n",
      "Epoch 56/100\n",
      "9/9 [==============================] - 2s - loss: 0.3648 - acc: 0.5153     \n",
      "Epoch 57/100\n",
      "9/9 [==============================] - 2s - loss: 0.3422 - acc: 0.4555     \n",
      "Epoch 58/100\n",
      "9/9 [==============================] - 2s - loss: 0.3212 - acc: 0.4085     \n",
      "Epoch 59/100\n",
      "9/9 [==============================] - 2s - loss: 0.2818 - acc: 0.5998     \n",
      "Epoch 60/100\n",
      "9/9 [==============================] - 2s - loss: 0.2849 - acc: 0.6006     \n",
      "Epoch 61/100\n",
      "9/9 [==============================] - 2s - loss: 0.3111 - acc: 0.6061     \n",
      "Epoch 62/100\n",
      "9/9 [==============================] - 2s - loss: 0.3601 - acc: 0.6114     \n",
      "Epoch 63/100\n",
      "9/9 [==============================] - 2s - loss: 0.3379 - acc: 0.2332     \n",
      "Epoch 64/100\n",
      "9/9 [==============================] - 2s - loss: 0.2959 - acc: 0.3861     \n",
      "Epoch 65/100\n",
      "9/9 [==============================] - 2s - loss: 0.3250 - acc: 0.2710     \n",
      "Epoch 66/100\n",
      "9/9 [==============================] - 2s - loss: 0.3433 - acc: 0.5334     \n",
      "Epoch 67/100\n",
      "9/9 [==============================] - 2s - loss: 0.2886 - acc: 0.6023     \n",
      "Epoch 68/100\n",
      "9/9 [==============================] - 2s - loss: 0.2764 - acc: 0.3083     \n",
      "Epoch 69/100\n",
      "9/9 [==============================] - 2s - loss: 0.2237 - acc: 0.4636     \n",
      "Epoch 70/100\n",
      "9/9 [==============================] - 2s - loss: 0.1953 - acc: 0.5733     \n",
      "Epoch 71/100\n",
      "9/9 [==============================] - 3s - loss: 0.2382 - acc: 0.4223     \n",
      "Epoch 72/100\n",
      "9/9 [==============================] - 3s - loss: 0.2168 - acc: 0.3295     \n",
      "Epoch 73/100\n",
      "9/9 [==============================] - 2s - loss: 0.1450 - acc: 0.4635     \n",
      "Epoch 74/100\n",
      "9/9 [==============================] - 3s - loss: 0.2493 - acc: 0.4908     \n",
      "Epoch 75/100\n",
      "9/9 [==============================] - 3s - loss: 0.2692 - acc: 0.4635     \n",
      "Epoch 76/100\n",
      "9/9 [==============================] - 2s - loss: 0.1431 - acc: 0.4207     \n",
      "Epoch 77/100\n",
      "9/9 [==============================] - 2s - loss: 0.2203 - acc: 0.3819     \n",
      "Epoch 78/100\n",
      "9/9 [==============================] - 2s - loss: 0.3016 - acc: 0.3017     \n",
      "Epoch 79/100\n",
      "9/9 [==============================] - 2s - loss: 0.2366 - acc: 0.5979     \n",
      "Epoch 80/100\n",
      "9/9 [==============================] - 2s - loss: 0.2329 - acc: 0.3935     \n",
      "Epoch 81/100\n",
      "9/9 [==============================] - 2s - loss: 0.2538 - acc: 0.3327     \n",
      "Epoch 82/100\n",
      "9/9 [==============================] - 2s - loss: 0.1659 - acc: 0.3575     \n",
      "Epoch 83/100\n",
      "9/9 [==============================] - 2s - loss: 0.2382 - acc: 0.4844     \n",
      "Epoch 84/100\n",
      "9/9 [==============================] - 2s - loss: 0.3054 - acc: 0.4110     \n",
      "Epoch 85/100\n",
      "9/9 [==============================] - 2s - loss: 0.2593 - acc: 0.2028     \n",
      "Epoch 86/100\n",
      "9/9 [==============================] - 2s - loss: 0.2466 - acc: 0.5547     \n",
      "Epoch 87/100\n",
      "9/9 [==============================] - 2s - loss: 0.2707 - acc: 0.2888     \n",
      "Epoch 88/100\n",
      "9/9 [==============================] - 2s - loss: 0.2646 - acc: 0.4113     \n",
      "Epoch 89/100\n",
      "9/9 [==============================] - 2s - loss: 0.2936 - acc: 0.3690     \n",
      "Epoch 90/100\n",
      "9/9 [==============================] - 2s - loss: 0.1019 - acc: 0.5789     \n",
      "Epoch 91/100\n",
      "9/9 [==============================] - 2s - loss: 0.1726 - acc: 0.5497     \n",
      "Epoch 92/100\n",
      "9/9 [==============================] - 2s - loss: 0.3193 - acc: 0.5067     \n",
      "Epoch 93/100\n"
     ]
    },
    {
     "name": "stdout",
     "output_type": "stream",
     "text": [
      "9/9 [==============================] - 2s - loss: 0.2931 - acc: 0.2144     \n",
      "Epoch 94/100\n",
      "9/9 [==============================] - 2s - loss: 0.2632 - acc: 0.2308     \n",
      "Epoch 95/100\n",
      "9/9 [==============================] - 2s - loss: 0.3051 - acc: 0.2631     \n",
      "Epoch 96/100\n",
      "9/9 [==============================] - 2s - loss: 0.2627 - acc: 0.6032     \n",
      "Epoch 97/100\n",
      "9/9 [==============================] - 2s - loss: 0.3090 - acc: 0.1411     \n",
      "Epoch 98/100\n",
      "9/9 [==============================] - 2s - loss: 0.2583 - acc: 0.3438     \n",
      "Epoch 99/100\n",
      "9/9 [==============================] - 2s - loss: 0.2229 - acc: 0.2356     \n",
      "Epoch 100/100\n",
      "9/9 [==============================] - 2s - loss: 0.1271 - acc: 0.5501     \n"
     ]
    },
    {
     "data": {
      "text/plain": [
       "<keras.callbacks.History at 0x1249aca58>"
      ]
     },
     "execution_count": 128,
     "metadata": {},
     "output_type": "execute_result"
    }
   ],
   "source": [
    "# 実行\n",
    "model.fit(aft_img, bef_img, batch_size=5, epochs=100)"
   ]
  },
  {
   "cell_type": "code",
   "execution_count": 129,
   "metadata": {},
   "outputs": [],
   "source": [
    "hoge = model.predict(aft_img)"
   ]
  },
  {
   "cell_type": "code",
   "execution_count": 136,
   "metadata": {},
   "outputs": [
    {
     "name": "stdout",
     "output_type": "stream",
     "text": [
      "上から下への変化を学習\n"
     ]
    },
    {
     "data": {
      "image/jpeg": "[encoded data removed]",
      "text/plain": [
       "<IPython.core.display.Image object>"
      ]
     },
     "metadata": {},
     "output_type": "display_data"
    },
    {
     "data": {
      "image/jpeg": "[encoded data removed]",
      "text/plain": [
       "<IPython.core.display.Image object>"
      ]
     },
     "metadata": {},
     "output_type": "display_data"
    },
    {
     "name": "stdout",
     "output_type": "stream",
     "text": [
      "そしたらこうなった\n"
     ]
    },
    {
     "data": {
      "image/jpeg": "[encoded data removed]",
      "text/plain": [
       "<IPython.core.display.Image object>"
      ]
     },
     "metadata": {},
     "output_type": "display_data"
    }
   ],
   "source": [
    "print(\"上から下への変化を学習\")\n",
    "display_cv_image(aft_img[3]*255),display_cv_image(bef_img[3]*255)\n",
    "print(\"そしたらこうなった\")\n",
    "display_cv_image(hoge[3]*255)"
   ]
  },
  {
   "cell_type": "code",
   "execution_count": null,
   "metadata": {},
   "outputs": [],
   "source": []
  },
  {
   "cell_type": "code",
   "execution_count": null,
   "metadata": {},
   "outputs": [],
   "source": []
  }
 ],
 "metadata": {
  "kernelspec": {
   "display_name": "Python 3",
   "language": "python",
   "name": "python3"
  },
  "language_info": {
   "codemirror_mode": {
    "name": "ipython",
    "version": 3
   },
   "file_extension": ".py",
   "mimetype": "text/x-python",
   "name": "python",
   "nbconvert_exporter": "python",
   "pygments_lexer": "ipython3",
   "version": "3.6.1"
  }
 },
 "nbformat": 4,
 "nbformat_minor": 2
}
