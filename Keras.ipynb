{
 "cells": [
  {
   "cell_type": "code",
   "execution_count": 327,
   "metadata": {},
   "outputs": [],
   "source": [
    "import keras\n",
    "from keras.models import Sequential\n",
    "from keras.layers import Dense, Activation,  Dropout\n",
    "from keras.layers.convolutional import Conv2D, MaxPooling2D\n",
    "import cv2\n",
    "from PIL import Image\n",
    "import matplotlib.pyplot as plt\n",
    "import numpy as np# 元となる画像の読み込み\n",
    "%matplotlib inline"
   ]
  },
  {
   "cell_type": "code",
   "execution_count": 944,
   "metadata": {},
   "outputs": [],
   "source": [
    "# opencv画像入力用\n",
    "from IPython.display import display, Image\n",
    "\n",
    "def display_cv_image(image, format='.JPG'):\n",
    "    decoded_bytes = cv2.imencode(format, image)[1].tobytes()\n",
    "    display(Image(data=decoded_bytes))\n",
    "\n",
    "def readyForGuess(img_name):\n",
    "    img = cv2.imread( \"./img/\"+img_name+\".jpg\", cv2.IMREAD_GRAYSCALE)\n",
    "    width = 100\n",
    "    size = (1*width,1*width)\n",
    "    #Create Small Size Image\n",
    "    img = cv2.resize(img, size)\n",
    "    img_dat = img/255\n",
    "    img_dat = img_dat.reshape(1,10000)\n",
    "    return img_dat"
   ]
  },
  {
   "cell_type": "code",
   "execution_count": 945,
   "metadata": {},
   "outputs": [],
   "source": [
    "# 元となる画像の読み込み\n",
    "bef_img = cv2.imread( './img/bef.JPG', cv2.IMREAD_GRAYSCALE)\n",
    "aft_img = cv2.imread('./img/aft.JPG', cv2.IMREAD_GRAYSCALE) "
   ]
  },
  {
   "cell_type": "code",
   "execution_count": 946,
   "metadata": {},
   "outputs": [],
   "source": [
    "width = 100\n",
    "size = (1*width,1*width)\n",
    "#Create Small Size Image\n",
    "bef_img = cv2.resize(bef_img, size)\n",
    "aft_img = cv2.resize(aft_img, size)"
   ]
  },
  {
   "cell_type": "code",
   "execution_count": 947,
   "metadata": {},
   "outputs": [],
   "source": [
    "bef_dat = bef_img/255\n",
    "aft_dat = aft_img/255\n",
    "hoge = bef_dat\n",
    "bef_dat = bef_dat.reshape(1,10000)\n",
    "aft_dat = aft_dat.reshape(1,10000)\n",
    "length=10000"
   ]
  },
  {
   "cell_type": "markdown",
   "metadata": {},
   "source": [
    "# ニューラルネットを作成"
   ]
  },
  {
   "cell_type": "code",
   "execution_count": 948,
   "metadata": {
    "scrolled": true
   },
   "outputs": [
    {
     "name": "stdout",
     "output_type": "stream",
     "text": [
      "_________________________________________________________________\n",
      "Layer (type)                 Output Shape              Param #   \n",
      "=================================================================\n",
      "dense_181 (Dense)            (None, 10000)             100010000 \n",
      "_________________________________________________________________\n",
      "activation_175 (Activation)  (None, 10000)             0         \n",
      "_________________________________________________________________\n",
      "dense_182 (Dense)            (None, 10000)             100010000 \n",
      "_________________________________________________________________\n",
      "activation_176 (Activation)  (None, 10000)             0         \n",
      "=================================================================\n",
      "Total params: 200,020,000\n",
      "Trainable params: 200,020,000\n",
      "Non-trainable params: 0\n",
      "_________________________________________________________________\n"
     ]
    }
   ],
   "source": [
    "NN = Sequential() #空のニューラルネット\n",
    "NN.add(Dense(length, input_dim=length))\n",
    "NN.add(Activation('relu'))\n",
    "NN.add(Dense(length))\n",
    "NN.add(Activation('softmax'))\n",
    "NN.summary()\n",
    "NN.compile(optimizer='adam',loss='categorical_crossentropy',metrics = ['accuracy'])"
   ]
  },
  {
   "cell_type": "code",
   "execution_count": 949,
   "metadata": {},
   "outputs": [
    {
     "name": "stdout",
     "output_type": "stream",
     "text": [
      "***\n",
      "[[ 0.  0.  0. ...,  0.  0.  0.]]\n",
      "***\n",
      "[[ 0.  0.  0. ...,  0.  0.  0.]]\n",
      "(100, 100)\n"
     ]
    }
   ],
   "source": [
    "print(\"***\")\n",
    "print(bef_dat)\n",
    "print(\"***\")\n",
    "print(aft_dat)\n",
    "print(hoge.shape)"
   ]
  },
  {
   "cell_type": "code",
   "execution_count": 950,
   "metadata": {},
   "outputs": [
    {
     "name": "stdout",
     "output_type": "stream",
     "text": [
      "Epoch 1/100\n",
      "1/1 [==============================] - 18s - loss: 56556.7188 - acc: 0.0000e+00\n",
      "Epoch 2/100\n",
      "1/1 [==============================] - 7s - loss: 73164.2734 - acc: 0.0000e+00\n",
      "Epoch 3/100\n",
      "1/1 [==============================] - 6s - loss: 73141.5625 - acc: 0.0000e+00\n",
      "Epoch 4/100\n",
      "1/1 [==============================] - 4s - loss: 70101.2422 - acc: 0.0000e+00\n",
      "Epoch 5/100\n",
      "1/1 [==============================] - 4s - loss: 68687.7500 - acc: 0.0000e+00\n",
      "Epoch 6/100\n",
      "1/1 [==============================] - 3s - loss: 66891.3594 - acc: 0.0000e+00\n",
      "Epoch 7/100\n",
      "1/1 [==============================] - 3s - loss: 58891.9961 - acc: 0.0000e+00\n",
      "Epoch 8/100\n",
      "1/1 [==============================] - 2s - loss: 55462.3281 - acc: 0.0000e+00\n",
      "Epoch 9/100\n",
      "1/1 [==============================] - 3s - loss: 55668.3438 - acc: 0.0000e+00\n",
      "Epoch 10/100\n",
      "1/1 [==============================] - 3s - loss: 55803.7734 - acc: 0.0000e+00\n",
      "Epoch 11/100\n",
      "1/1 [==============================] - 2s - loss: 55819.9102 - acc: 0.0000e+00\n",
      "Epoch 12/100\n",
      "1/1 [==============================] - 2s - loss: 55786.4062 - acc: 0.0000e+00\n",
      "Epoch 13/100\n",
      "1/1 [==============================] - 4s - loss: 55713.0352 - acc: 0.0000e+00\n",
      "Epoch 14/100\n",
      "1/1 [==============================] - 3s - loss: 55613.0703 - acc: 0.0000e+00\n",
      "Epoch 15/100\n",
      "1/1 [==============================] - 3s - loss: 55502.7344 - acc: 0.0000e+00\n",
      "Epoch 16/100\n",
      "1/1 [==============================] - 5s - loss: 55397.1680 - acc: 0.0000e+00\n",
      "Epoch 17/100\n",
      "1/1 [==============================] - 3s - loss: 55305.9922 - acc: 0.0000e+00\n",
      "Epoch 18/100\n",
      "1/1 [==============================] - 3s - loss: 55229.3672 - acc: 0.0000e+00\n",
      "Epoch 19/100\n",
      "1/1 [==============================] - 2s - loss: 55158.3711 - acc: 0.0000e+00\n",
      "Epoch 20/100\n",
      "1/1 [==============================] - 3s - loss: 55081.1367 - acc: 0.0000e+00\n",
      "Epoch 21/100\n",
      "1/1 [==============================] - 3s - loss: 54991.1953 - acc: 0.0000e+00\n",
      "Epoch 22/100\n",
      "1/1 [==============================] - 3s - loss: 54890.4766 - acc: 0.0000e+00\n",
      "Epoch 23/100\n",
      "1/1 [==============================] - 3s - loss: 54786.5625 - acc: 0.0000e+00\n",
      "Epoch 24/100\n",
      "1/1 [==============================] - 3s - loss: 54688.3672 - acc: 0.0000e+00\n",
      "Epoch 25/100\n",
      "1/1 [==============================] - 3s - loss: 54603.0312 - acc: 0.0000e+00\n",
      "Epoch 26/100\n",
      "1/1 [==============================] - 3s - loss: 54534.3281 - acc: 0.0000e+00\n",
      "Epoch 27/100\n",
      "1/1 [==============================] - 3s - loss: 54483.0742 - acc: 0.0000e+00\n",
      "Epoch 28/100\n",
      "1/1 [==============================] - 2s - loss: 54447.5781 - acc: 0.0000e+00\n",
      "Epoch 29/100\n",
      "1/1 [==============================] - 3s - loss: 54424.8516 - acc: 0.0000e+00\n",
      "Epoch 30/100\n",
      "1/1 [==============================] - 3s - loss: 54410.9453 - acc: 0.0000e+00\n",
      "Epoch 31/100\n",
      "1/1 [==============================] - 3s - loss: 54402.0469 - acc: 0.0000e+00\n",
      "Epoch 32/100\n",
      "1/1 [==============================] - 3s - loss: 54394.8789 - acc: 0.0000e+00\n",
      "Epoch 33/100\n",
      "1/1 [==============================] - 2s - loss: 54386.9883 - acc: 0.0000e+00\n",
      "Epoch 34/100\n",
      "1/1 [==============================] - 6s - loss: 54377.1680 - acc: 0.0000e+00\n",
      "Epoch 35/100\n",
      "1/1 [==============================] - 3s - loss: 54365.4844 - acc: 0.0000e+00\n",
      "Epoch 36/100\n",
      "1/1 [==============================] - 5s - loss: 54352.4883 - acc: 0.0000e+00\n",
      "Epoch 37/100\n",
      "1/1 [==============================] - 4s - loss: 54339.2500 - acc: 0.0000e+00\n",
      "Epoch 38/100\n",
      "1/1 [==============================] - 4s - loss: 54326.6641 - acc: 0.0000e+00\n",
      "Epoch 39/100\n",
      "1/1 [==============================] - 3s - loss: 54315.4023 - acc: 0.0000e+00\n",
      "Epoch 40/100\n",
      "1/1 [==============================] - 3s - loss: 54305.7422 - acc: 0.0000e+00\n",
      "Epoch 41/100\n",
      "1/1 [==============================] - 2s - loss: 54297.5859 - acc: 0.0000e+00\n",
      "Epoch 42/100\n",
      "1/1 [==============================] - 2s - loss: 54290.7734 - acc: 0.0000e+00\n",
      "Epoch 43/100\n",
      "1/1 [==============================] - 3s - loss: 54284.9961 - acc: 0.0000e+00\n",
      "Epoch 44/100\n",
      "1/1 [==============================] - 3s - loss: 54280.0430 - acc: 0.0000e+00\n",
      "Epoch 45/100\n",
      "1/1 [==============================] - 2s - loss: 54275.7305 - acc: 0.0000e+00\n",
      "Epoch 46/100\n",
      "1/1 [==============================] - 3s - loss: 54271.7891 - acc: 0.0000e+00\n",
      "Epoch 47/100\n",
      "1/1 [==============================] - 3s - loss: 54268.2500 - acc: 0.0000e+00\n",
      "Epoch 48/100\n",
      "1/1 [==============================] - 3s - loss: 54264.9336 - acc: 0.0000e+00\n",
      "Epoch 49/100\n",
      "1/1 [==============================] - 2s - loss: 54261.7578 - acc: 0.0000e+00\n",
      "Epoch 50/100\n",
      "1/1 [==============================] - 2s - loss: 54258.7656 - acc: 0.0000e+00\n",
      "Epoch 51/100\n",
      "1/1 [==============================] - 3s - loss: 54255.8828 - acc: 0.0000e+00\n",
      "Epoch 52/100\n",
      "1/1 [==============================] - 3s - loss: 54253.2539 - acc: 0.0000e+00\n",
      "Epoch 53/100\n",
      "1/1 [==============================] - 3s - loss: 54250.8008 - acc: 0.0000e+00\n",
      "Epoch 54/100\n",
      "1/1 [==============================] - 3s - loss: 54248.5156 - acc: 0.0000e+00\n",
      "Epoch 55/100\n",
      "1/1 [==============================] - 2s - loss: 54246.4453 - acc: 0.0000e+00\n",
      "Epoch 56/100\n",
      "1/1 [==============================] - 3s - loss: 54244.5000 - acc: 0.0000e+00\n",
      "Epoch 57/100\n",
      "1/1 [==============================] - 3s - loss: 54242.7266 - acc: 0.0000e+00\n",
      "Epoch 58/100\n",
      "1/1 [==============================] - 3s - loss: 54241.0547 - acc: 0.0000e+00\n",
      "Epoch 59/100\n",
      "1/1 [==============================] - 3s - loss: 54239.5156 - acc: 0.0000e+00\n",
      "Epoch 60/100\n",
      "1/1 [==============================] - 3s - loss: 54238.0977 - acc: 0.0000e+00\n",
      "Epoch 61/100\n",
      "1/1 [==============================] - 3s - loss: 54236.8203 - acc: 0.0000e+00\n",
      "Epoch 62/100\n",
      "1/1 [==============================] - 3s - loss: 54235.6719 - acc: 0.0000e+00\n",
      "Epoch 63/100\n",
      "1/1 [==============================] - 3s - loss: 54234.5703 - acc: 0.0000e+00\n",
      "Epoch 64/100\n",
      "1/1 [==============================] - 3s - loss: 54233.5938 - acc: 0.0000e+00\n",
      "Epoch 65/100\n",
      "1/1 [==============================] - 3s - loss: 54232.7305 - acc: 0.0000e+00\n",
      "Epoch 66/100\n",
      "1/1 [==============================] - 2s - loss: 54231.8203 - acc: 0.0000e+00\n",
      "Epoch 67/100\n",
      "1/1 [==============================] - 3s - loss: 54231.0156 - acc: 0.0000e+00\n",
      "Epoch 68/100\n",
      "1/1 [==============================] - 2s - loss: 54230.2578 - acc: 0.0000e+00\n",
      "Epoch 69/100\n",
      "1/1 [==============================] - 3s - loss: 54229.5547 - acc: 0.0000e+00\n",
      "Epoch 70/100\n",
      "1/1 [==============================] - 3s - loss: 54228.9062 - acc: 0.0000e+00\n",
      "Epoch 71/100\n",
      "1/1 [==============================] - 3s - loss: 54228.2109 - acc: 0.0000e+00\n",
      "Epoch 72/100\n",
      "1/1 [==============================] - 3s - loss: 54227.6641 - acc: 0.0000e+00\n",
      "Epoch 73/100\n",
      "1/1 [==============================] - 3s - loss: 54227.1094 - acc: 0.0000e+00\n",
      "Epoch 74/100\n",
      "1/1 [==============================] - 3s - loss: 54226.6367 - acc: 0.0000e+00\n",
      "Epoch 75/100\n",
      "1/1 [==============================] - 2s - loss: 54226.1406 - acc: 0.0000e+00\n",
      "Epoch 76/100\n",
      "1/1 [==============================] - 3s - loss: 54225.6719 - acc: 0.0000e+00\n",
      "Epoch 77/100\n",
      "1/1 [==============================] - 2s - loss: 54225.3164 - acc: 0.0000e+00\n",
      "Epoch 78/100\n",
      "1/1 [==============================] - 2s - loss: 54224.9258 - acc: 0.0000e+00\n",
      "Epoch 79/100\n",
      "1/1 [==============================] - 3s - loss: 54224.5547 - acc: 0.0000e+00\n",
      "Epoch 80/100\n",
      "1/1 [==============================] - 3s - loss: 54224.2578 - acc: 0.0000e+00\n",
      "Epoch 81/100\n",
      "1/1 [==============================] - 3s - loss: 54223.9023 - acc: 0.0000e+00\n",
      "Epoch 82/100\n",
      "1/1 [==============================] - 3s - loss: 54223.6406 - acc: 0.0000e+00\n",
      "Epoch 83/100\n",
      "1/1 [==============================] - 3s - loss: 54223.3320 - acc: 0.0000e+00\n",
      "Epoch 84/100\n",
      "1/1 [==============================] - 3s - loss: 54223.1094 - acc: 0.0000e+00\n",
      "Epoch 85/100\n",
      "1/1 [==============================] - 3s - loss: 54222.8906 - acc: 0.0000e+00\n",
      "Epoch 86/100\n",
      "1/1 [==============================] - 3s - loss: 54222.6680 - acc: 0.0000e+00\n",
      "Epoch 87/100\n",
      "1/1 [==============================] - 2s - loss: 54222.4375 - acc: 0.0000e+00\n",
      "Epoch 88/100\n",
      "1/1 [==============================] - 2s - loss: 54222.2539 - acc: 0.0000e+00\n",
      "Epoch 89/100\n",
      "1/1 [==============================] - 5s - loss: 54222.0703 - acc: 0.0000e+00\n",
      "Epoch 90/100\n"
     ]
    },
    {
     "name": "stdout",
     "output_type": "stream",
     "text": [
      "1/1 [==============================] - 4s - loss: 54221.9570 - acc: 0.0000e+00\n",
      "Epoch 91/100\n",
      "1/1 [==============================] - 5s - loss: 54221.7812 - acc: 0.0000e+00\n",
      "Epoch 92/100\n",
      "1/1 [==============================] - 3s - loss: 54221.6602 - acc: 0.0000e+00\n",
      "Epoch 93/100\n",
      "1/1 [==============================] - 3s - loss: 54221.4922 - acc: 0.0000e+00\n",
      "Epoch 94/100\n",
      "1/1 [==============================] - 3s - loss: 54221.4297 - acc: 0.0000e+00\n",
      "Epoch 95/100\n",
      "1/1 [==============================] - 2s - loss: 54221.3203 - acc: 0.0000e+00\n",
      "Epoch 96/100\n",
      "1/1 [==============================] - 3s - loss: 54221.1914 - acc: 0.0000e+00\n",
      "Epoch 97/100\n",
      "1/1 [==============================] - 4s - loss: 54221.1172 - acc: 0.0000e+00\n",
      "Epoch 98/100\n",
      "1/1 [==============================] - 3s - loss: 54221.0352 - acc: 0.0000e+00\n",
      "Epoch 99/100\n",
      "1/1 [==============================] - 5s - loss: 54220.9688 - acc: 0.0000e+00\n",
      "Epoch 100/100\n",
      "1/1 [==============================] - 3s - loss: 54220.8945 - acc: 0.0000e+00\n"
     ]
    },
    {
     "data": {
      "text/plain": [
       "<keras.callbacks.History at 0x133d9a400>"
      ]
     },
     "execution_count": 950,
     "metadata": {},
     "output_type": "execute_result"
    }
   ],
   "source": [
    "NN.fit(aft_dat,bef_dat, epochs=100)"
   ]
  },
  {
   "cell_type": "markdown",
   "metadata": {},
   "source": [
    "# 予想したいデータの入力"
   ]
  },
  {
   "cell_type": "code",
   "execution_count": 954,
   "metadata": {},
   "outputs": [],
   "source": [
    "img_name = \"aft\" #ファイル名のみ\n",
    "guess_dat = readyForGuess(img_name)\n",
    "result = NN.predict(guess_dat)"
   ]
  },
  {
   "cell_type": "code",
   "execution_count": 955,
   "metadata": {},
   "outputs": [],
   "source": [
    "#正規化準備\n",
    "result_max = result.max()\n",
    "result_min = result.min()\n",
    "# 0-255に正規化\n",
    "result = (result - result_min) * (255 - 0) / (result_max - result_min) + 0\n",
    "\n",
    "#intに変換する.グレースケールはintだから\n",
    "result = np.floor(result)\n",
    "result = result.astype(np.int)\n",
    "result = result.reshape(width,-1)"
   ]
  },
  {
   "cell_type": "code",
   "execution_count": 956,
   "metadata": {
    "scrolled": true
   },
   "outputs": [
    {
     "name": "stdout",
     "output_type": "stream",
     "text": [
      "推測画像\n"
     ]
    },
    {
     "data": {
      "image/jpeg": "[encoded data removed]",
      "text/plain": [
       "<IPython.core.display.Image object>"
      ]
     },
     "metadata": {},
     "output_type": "display_data"
    }
   ],
   "source": [
    "cv2.imwrite(\"./img/output.jpg\", result)\n",
    "# 元となる画像の読み込み\n",
    "img = cv2.imread(\"./img/output.jpg\")\n",
    "print(\"推測画像\")\n",
    "display_cv_image(img)"
   ]
  },
  {
   "cell_type": "code",
   "execution_count": 890,
   "metadata": {},
   "outputs": [
    {
     "name": "stdout",
     "output_type": "stream",
     "text": [
      "これから\n"
     ]
    },
    {
     "data": {
      "image/jpeg": "[encoded data removed]",
      "text/plain": [
       "<IPython.core.display.Image object>"
      ]
     },
     "metadata": {},
     "output_type": "display_data"
    },
    {
     "name": "stdout",
     "output_type": "stream",
     "text": [
      "これを推測\n"
     ]
    },
    {
     "data": {
      "image/jpeg": "[encoded data removed]",
      "text/plain": [
       "<IPython.core.display.Image object>"
      ]
     },
     "metadata": {},
     "output_type": "display_data"
    }
   ],
   "source": [
    "print(\"これから\")\n",
    "display_cv_image(aft_img)\n",
    "print(\"これを推測\")\n",
    "display_cv_image(bef_img)\n"
   ]
  },
  {
   "cell_type": "code",
   "execution_count": null,
   "metadata": {},
   "outputs": [],
   "source": []
  }
 ],
 "metadata": {
  "kernelspec": {
   "display_name": "Python 3",
   "language": "python",
   "name": "python3"
  },
  "language_info": {
   "codemirror_mode": {
    "name": "ipython",
    "version": 3
   },
   "file_extension": ".py",
   "mimetype": "text/x-python",
   "name": "python",
   "nbconvert_exporter": "python",
   "pygments_lexer": "ipython3",
   "version": "3.6.1"
  }
 },
 "nbformat": 4,
 "nbformat_minor": 2
}
