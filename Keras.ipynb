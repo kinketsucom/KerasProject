{
 "cells": [
  {
   "cell_type": "code",
   "execution_count": 1,
   "metadata": {},
   "outputs": [
    {
     "name": "stderr",
     "output_type": "stream",
     "text": [
      "Using TensorFlow backend.\n"
     ]
    }
   ],
   "source": [
    "import keras\n",
    "from keras.models import Sequential\n",
    "from keras.layers import Dense, Activation,  Dropout\n",
    "from keras.layers.convolutional import Conv2D, MaxPooling2D\n",
    "import cv2\n",
    "from PIL import Image\n",
    "import matplotlib.pyplot as plt\n",
    "import numpy as np# 元となる画像の読み込み\n",
    "%matplotlib inline"
   ]
  },
  {
   "cell_type": "code",
   "execution_count": 264,
   "metadata": {},
   "outputs": [],
   "source": [
    "# opencv画像入力用\n",
    "from IPython.display import display, Image\n",
    "\n",
    "def display_cv_image(image, format='.JPG'):\n",
    "    decoded_bytes = cv2.imencode(format, image)[1].tobytes()\n",
    "    display(Image(data=decoded_bytes))\n",
    "\n",
    "def readyForGuess(img_nam,width):\n",
    "    img = cv2.imread( \"./img/\"+img_name+\".jpg\", cv2.IMREAD_GRAYSCALE)\n",
    "    size = (3*width,4*width)\n",
    "    #Create Small Size Image\n",
    "    length=size[0]*size[1]\n",
    "    img = cv2.resize(img, size)\n",
    "    img_dat = img/255\n",
    "    img_dat = img_dat.reshape(1,length)\n",
    "    return img_dat"
   ]
  },
  {
   "cell_type": "code",
   "execution_count": 265,
   "metadata": {},
   "outputs": [],
   "source": [
    "#画像読み込みします\n",
    "\n",
    "# 必要なライブラリのインクルード\n",
    "import os\n",
    "import re\n",
    "\n",
    "width = 20\n",
    "size = (3*width,4*width)\n",
    "length=size[0]*size[1]\n",
    "\n",
    "bef_dat = np.zeros((0,length))\n",
    "aft_dat = np.zeros((0,length))\n",
    "\n",
    "\n",
    "\n",
    "\n",
    "dir = os.getcwd()# カレントディレクトリのパスを取得\n",
    "\n",
    "\n",
    "#positive\n",
    "pos_dir = dir+\"/img/pos/\"\n",
    "files = os.listdir(pos_dir)# ファイルのリストを取得\n",
    "for file in files:# ファイルの数だけループ\n",
    "    index = re.search('.JPG', file)# 拡張子がjpgのものを検出\n",
    "    if index:# jpgの時だけ\n",
    "        read_img = cv2.imread( pos_dir+file, cv2.IMREAD_GRAYSCALE)\n",
    "        read_img = cv2.resize(read_img, size)\n",
    "        read_dat = read_img/255\n",
    "        read_dat = read_dat.reshape(1,length)\n",
    "        bef_dat = np.append(bef_dat, np.array(read_dat),axis=0)\n",
    "#negative\n",
    "neg_dir = dir+\"/img/neg/\"\n",
    "files = os.listdir(neg_dir)# ファイルのリストを取得\n",
    "for file in files:# ファイルの数だけループ\n",
    "    index = re.search('.JPG', file)# 拡張子がjpgのものを検出\n",
    "    if index:# jpgの時だけ\n",
    "        read_img = cv2.imread( neg_dir+file, cv2.IMREAD_GRAYSCALE)\n",
    "        read_img = cv2.resize(read_img, size)\n",
    "        read_dat = read_img/255\n",
    "        read_dat =  read_dat.reshape(1,length)\n",
    "        aft_dat = np.append(aft_dat, np.array(read_dat),axis=0)\n",
    "\n",
    "# # 元となる画像の読み込み\n",
    "# bef_img = cv2.imread( './img/bef.JPG', cv2.IMREAD_GRAYSCALE)\n",
    "# aft_img = cv2.imread('./img/aft.JPG', cv2.IMREAD_GRAYSCALE) "
   ]
  },
  {
   "cell_type": "markdown",
   "metadata": {},
   "source": [
    "# ニューラルネットを作成"
   ]
  },
  {
   "cell_type": "code",
   "execution_count": 303,
   "metadata": {
    "scrolled": false
   },
   "outputs": [
    {
     "name": "stdout",
     "output_type": "stream",
     "text": [
      "_________________________________________________________________\n",
      "Layer (type)                 Output Shape              Param #   \n",
      "=================================================================\n",
      "conv2d_1 (Conv2D)            (None, 30, 30, 32)        896       \n",
      "_________________________________________________________________\n",
      "dense_35 (Dense)             (None, 30, 30, 4800)      158400    \n",
      "_________________________________________________________________\n",
      "activation_19 (Activation)   (None, 30, 30, 4800)      0         \n",
      "_________________________________________________________________\n",
      "dense_36 (Dense)             (None, 30, 30, 4800)      23044800  \n",
      "=================================================================\n",
      "Total params: 23,204,096\n",
      "Trainable params: 23,204,096\n",
      "Non-trainable params: 0\n",
      "_________________________________________________________________\n"
     ]
    }
   ],
   "source": [
    "NN = Sequential() #空のニューラルネット\n",
    "NN.add(Dense(length, input_dim=length))\n",
    "NN.add(Activation('relu'))\n",
    "NN.add(Dense(length))\n",
    "NN.summary()\n",
    "NN.compile(optimizer='rmsprop',loss='cosine_proximity',metrics = ['accuracy'])"
   ]
  },
  {
   "cell_type": "code",
   "execution_count": 275,
   "metadata": {},
   "outputs": [
    {
     "name": "stdout",
     "output_type": "stream",
     "text": [
      "Epoch 1/100\n",
      "9/9 [==============================] - 0s - loss: -2.0360e-04 - acc: 0.1111\n",
      "Epoch 2/100\n",
      "9/9 [==============================] - 0s - loss: -2.0429e-04 - acc: 0.1111\n",
      "Epoch 3/100\n",
      "9/9 [==============================] - 0s - loss: -2.0442e-04 - acc: 0.0000e+00\n",
      "Epoch 4/100\n",
      "9/9 [==============================] - 0s - loss: -2.0337e-04 - acc: 0.1111\n",
      "Epoch 5/100\n",
      "9/9 [==============================] - 0s - loss: -1.9978e-04 - acc: 0.0000e+00\n",
      "Epoch 6/100\n",
      "9/9 [==============================] - 0s - loss: -1.9637e-04 - acc: 0.0000e+00\n",
      "Epoch 7/100\n",
      "9/9 [==============================] - 0s - loss: -2.0138e-04 - acc: 0.1111\n",
      "Epoch 8/100\n",
      "9/9 [==============================] - 0s - loss: -2.0457e-04 - acc: 0.1111\n",
      "Epoch 9/100\n",
      "9/9 [==============================] - 0s - loss: -2.0556e-04 - acc: 0.1111\n",
      "Epoch 10/100\n",
      "9/9 [==============================] - 0s - loss: -2.0589e-04 - acc: 0.0000e+00\n",
      "Epoch 11/100\n",
      "9/9 [==============================] - 0s - loss: -2.0598e-04 - acc: 0.1111\n",
      "Epoch 12/100\n",
      "9/9 [==============================] - 0s - loss: -2.0580e-04 - acc: 0.0000e+00\n",
      "Epoch 13/100\n",
      "9/9 [==============================] - 0s - loss: -2.0491e-04 - acc: 0.1111\n",
      "Epoch 14/100\n",
      "9/9 [==============================] - 0s - loss: -2.0333e-04 - acc: 0.0000e+00\n",
      "Epoch 15/100\n",
      "9/9 [==============================] - 0s - loss: -2.0184e-04 - acc: 0.1111\n",
      "Epoch 16/100\n",
      "9/9 [==============================] - 0s - loss: -2.0395e-04 - acc: 0.0000e+00\n",
      "Epoch 17/100\n",
      "9/9 [==============================] - 0s - loss: -2.0539e-04 - acc: 0.1111\n",
      "Epoch 18/100\n",
      "9/9 [==============================] - 0s - loss: -2.0606e-04 - acc: 0.0000e+00\n",
      "Epoch 19/100\n",
      "9/9 [==============================] - 0s - loss: -2.0593e-04 - acc: 0.1111\n",
      "Epoch 20/100\n",
      "9/9 [==============================] - 0s - loss: -2.0540e-04 - acc: 0.0000e+00\n",
      "Epoch 21/100\n",
      "9/9 [==============================] - 0s - loss: -2.0437e-04 - acc: 0.1111\n",
      "Epoch 22/100\n",
      "9/9 [==============================] - 0s - loss: -2.0428e-04 - acc: 0.0000e+00\n",
      "Epoch 23/100\n",
      "9/9 [==============================] - 0s - loss: -2.0503e-04 - acc: 0.1111\n",
      "Epoch 24/100\n",
      "9/9 [==============================] - 0s - loss: -2.0601e-04 - acc: 0.0000e+00\n",
      "Epoch 25/100\n",
      "9/9 [==============================] - 0s - loss: -2.0660e-04 - acc: 0.1111\n",
      "Epoch 26/100\n",
      "9/9 [==============================] - 0s - loss: -2.0686e-04 - acc: 0.0000e+00\n",
      "Epoch 27/100\n",
      "9/9 [==============================] - 0s - loss: -2.0698e-04 - acc: 0.1111\n",
      "Epoch 28/100\n",
      "9/9 [==============================] - 0s - loss: -2.0692e-04 - acc: 0.0000e+00\n",
      "Epoch 29/100\n",
      "9/9 [==============================] - 0s - loss: -2.0675e-04 - acc: 0.1111\n",
      "Epoch 30/100\n",
      "9/9 [==============================] - 0s - loss: -2.0637e-04 - acc: 0.0000e+00\n",
      "Epoch 31/100\n",
      "9/9 [==============================] - 0s - loss: -2.0605e-04 - acc: 0.1111\n",
      "Epoch 32/100\n",
      "9/9 [==============================] - 0s - loss: -2.0589e-04 - acc: 0.0000e+00\n",
      "Epoch 33/100\n",
      "9/9 [==============================] - 0s - loss: -2.0629e-04 - acc: 0.1111\n",
      "Epoch 34/100\n",
      "9/9 [==============================] - 0s - loss: -2.0674e-04 - acc: 0.0000e+00\n",
      "Epoch 35/100\n",
      "9/9 [==============================] - 0s - loss: -2.0717e-04 - acc: 0.1111\n",
      "Epoch 36/100\n",
      "9/9 [==============================] - 0s - loss: -2.0740e-04 - acc: 0.0000e+00\n",
      "Epoch 37/100\n",
      "9/9 [==============================] - 0s - loss: -2.0756e-04 - acc: 0.1111\n",
      "Epoch 38/100\n",
      "9/9 [==============================] - 0s - loss: -2.0764e-04 - acc: 0.1111\n",
      "Epoch 39/100\n",
      "9/9 [==============================] - 0s - loss: -2.0768e-04 - acc: 0.2222\n",
      "Epoch 40/100\n",
      "9/9 [==============================] - 0s - loss: -2.0762e-04 - acc: 0.1111\n",
      "Epoch 41/100\n",
      "9/9 [==============================] - 0s - loss: -2.0749e-04 - acc: 0.1111\n",
      "Epoch 42/100\n",
      "9/9 [==============================] - 0s - loss: -2.0705e-04 - acc: 0.0000e+00\n",
      "Epoch 43/100\n",
      "9/9 [==============================] - 0s - loss: -2.0661e-04 - acc: 0.1111\n",
      "Epoch 44/100\n",
      "9/9 [==============================] - 0s - loss: -2.0586e-04 - acc: 0.0000e+00\n",
      "Epoch 45/100\n",
      "9/9 [==============================] - 0s - loss: -2.0643e-04 - acc: 0.1111\n",
      "Epoch 46/100\n",
      "9/9 [==============================] - 0s - loss: -2.0670e-04 - acc: 0.0000e+00\n",
      "Epoch 47/100\n",
      "9/9 [==============================] - 0s - loss: -2.0740e-04 - acc: 0.1111\n",
      "Epoch 48/100\n",
      "9/9 [==============================] - 0s - loss: -2.0761e-04 - acc: 0.1111\n",
      "Epoch 49/100\n",
      "9/9 [==============================] - 0s - loss: -2.0782e-04 - acc: 0.1111\n",
      "Epoch 50/100\n",
      "9/9 [==============================] - 0s - loss: -2.0789e-04 - acc: 0.1111\n",
      "Epoch 51/100\n",
      "9/9 [==============================] - 0s - loss: -2.0796e-04 - acc: 0.2222\n",
      "Epoch 52/100\n",
      "9/9 [==============================] - 0s - loss: -2.0798e-04 - acc: 0.1111\n",
      "Epoch 53/100\n",
      "9/9 [==============================] - 0s - loss: -2.0801e-04 - acc: 0.2222\n",
      "Epoch 54/100\n",
      "9/9 [==============================] - 0s - loss: -2.0801e-04 - acc: 0.1111\n",
      "Epoch 55/100\n",
      "9/9 [==============================] - 0s - loss: -2.0801e-04 - acc: 0.2222\n",
      "Epoch 56/100\n",
      "9/9 [==============================] - 0s - loss: -2.0797e-04 - acc: 0.1111\n",
      "Epoch 57/100\n",
      "9/9 [==============================] - 0s - loss: -2.0793e-04 - acc: 0.1111\n",
      "Epoch 58/100\n",
      "9/9 [==============================] - 0s - loss: -2.0785e-04 - acc: 0.1111\n",
      "Epoch 59/100\n",
      "9/9 [==============================] - 0s - loss: -2.0776e-04 - acc: 0.1111\n",
      "Epoch 60/100\n",
      "9/9 [==============================] - 0s - loss: -2.0765e-04 - acc: 0.1111\n",
      "Epoch 61/100\n",
      "9/9 [==============================] - 0s - loss: -2.0755e-04 - acc: 0.1111\n",
      "Epoch 62/100\n",
      "9/9 [==============================] - 0s - loss: -2.0751e-04 - acc: 0.1111\n",
      "Epoch 63/100\n",
      "9/9 [==============================] - 0s - loss: -2.0751e-04 - acc: 0.1111\n",
      "Epoch 64/100\n",
      "9/9 [==============================] - 0s - loss: -2.0761e-04 - acc: 0.1111\n",
      "Epoch 65/100\n",
      "9/9 [==============================] - 0s - loss: -2.0766e-04 - acc: 0.1111\n",
      "Epoch 66/100\n",
      "9/9 [==============================] - 0s - loss: -2.0777e-04 - acc: 0.1111\n",
      "Epoch 67/100\n",
      "9/9 [==============================] - 0s - loss: -2.0780e-04 - acc: 0.1111\n",
      "Epoch 68/100\n",
      "9/9 [==============================] - 0s - loss: -2.0788e-04 - acc: 0.1111\n",
      "Epoch 69/100\n",
      "9/9 [==============================] - 0s - loss: -2.0789e-04 - acc: 0.1111\n",
      "Epoch 70/100\n",
      "9/9 [==============================] - 0s - loss: -2.0796e-04 - acc: 0.1111\n",
      "Epoch 71/100\n",
      "9/9 [==============================] - 0s - loss: -2.0797e-04 - acc: 0.1111\n",
      "Epoch 72/100\n",
      "9/9 [==============================] - 0s - loss: -2.0802e-04 - acc: 0.1111\n",
      "Epoch 73/100\n",
      "9/9 [==============================] - 0s - loss: -2.0804e-04 - acc: 0.1111\n",
      "Epoch 74/100\n",
      "9/9 [==============================] - 0s - loss: -2.0808e-04 - acc: 0.1111\n",
      "Epoch 75/100\n",
      "9/9 [==============================] - 0s - loss: -2.0810e-04 - acc: 0.1111\n",
      "Epoch 76/100\n",
      "9/9 [==============================] - 0s - loss: -2.0811e-04 - acc: 0.1111\n",
      "Epoch 77/100\n",
      "9/9 [==============================] - 0s - loss: -2.0812e-04 - acc: 0.1111\n",
      "Epoch 78/100\n",
      "9/9 [==============================] - 0s - loss: -2.0812e-04 - acc: 0.2222\n",
      "Epoch 79/100\n",
      "9/9 [==============================] - 0s - loss: -2.0811e-04 - acc: 0.1111\n",
      "Epoch 80/100\n",
      "9/9 [==============================] - 0s - loss: -2.0808e-04 - acc: 0.2222\n",
      "Epoch 81/100\n",
      "9/9 [==============================] - 0s - loss: -2.0807e-04 - acc: 0.1111\n",
      "Epoch 82/100\n",
      "9/9 [==============================] - 0s - loss: -2.0800e-04 - acc: 0.1111\n",
      "Epoch 83/100\n",
      "9/9 [==============================] - 0s - loss: -2.0799e-04 - acc: 0.1111\n",
      "Epoch 84/100\n",
      "9/9 [==============================] - 0s - loss: -2.0790e-04 - acc: 0.1111\n",
      "Epoch 85/100\n",
      "9/9 [==============================] - 0s - loss: -2.0792e-04 - acc: 0.1111\n",
      "Epoch 86/100\n",
      "9/9 [==============================] - 0s - loss: -2.0785e-04 - acc: 0.1111\n",
      "Epoch 87/100\n",
      "9/9 [==============================] - 0s - loss: -2.0794e-04 - acc: 0.1111\n",
      "Epoch 88/100\n",
      "9/9 [==============================] - 0s - loss: -2.0792e-04 - acc: 0.0000e+00\n",
      "Epoch 89/100\n",
      "9/9 [==============================] - 0s - loss: -2.0802e-04 - acc: 0.1111\n",
      "Epoch 90/100\n",
      "9/9 [==============================] - 0s - loss: -2.0803e-04 - acc: 0.2222\n",
      "Epoch 91/100\n",
      "9/9 [==============================] - 0s - loss: -2.0811e-04 - acc: 0.1111\n",
      "Epoch 92/100\n",
      "9/9 [==============================] - 0s - loss: -2.0813e-04 - acc: 0.1111\n",
      "Epoch 93/100\n",
      "9/9 [==============================] - 0s - loss: -2.0818e-04 - acc: 0.1111\n",
      "Epoch 94/100\n",
      "9/9 [==============================] - 0s - loss: -2.0819e-04 - acc: 0.2222\n",
      "Epoch 95/100\n",
      "9/9 [==============================] - 0s - loss: -2.0822e-04 - acc: 0.1111\n",
      "Epoch 96/100\n",
      "9/9 [==============================] - 0s - loss: -2.0823e-04 - acc: 0.2222\n",
      "Epoch 97/100\n",
      "9/9 [==============================] - 0s - loss: -2.0824e-04 - acc: 0.1111\n",
      "Epoch 98/100\n",
      "9/9 [==============================] - 0s - loss: -2.0825e-04 - acc: 0.2222\n",
      "Epoch 99/100\n",
      "9/9 [==============================] - 0s - loss: -2.0826e-04 - acc: 0.1111\n",
      "Epoch 100/100\n",
      "9/9 [==============================] - 0s - loss: -2.0826e-04 - acc: 0.2222\n"
     ]
    },
    {
     "data": {
      "text/plain": [
       "<keras.callbacks.History at 0x1cbdb4048>"
      ]
     },
     "execution_count": 275,
     "metadata": {},
     "output_type": "execute_result"
    }
   ],
   "source": [
    "NN.fit(aft_dat,bef_dat, epochs=100) #変化後から変化前を学習する"
   ]
  },
  {
   "cell_type": "markdown",
   "metadata": {},
   "source": [
    "# 予想したいデータの入力"
   ]
  },
  {
   "cell_type": "code",
   "execution_count": 298,
   "metadata": {},
   "outputs": [],
   "source": [
    "# img_name = \"neg/\"+\"1\" #ファイル名のみ\n",
    "img_name = \"test\"\n",
    "guess_dat = readyForGuess(img_name,width)\n",
    "\n",
    "# 予想してます\n",
    "result = NN.predict(guess_dat)"
   ]
  },
  {
   "cell_type": "code",
   "execution_count": 299,
   "metadata": {},
   "outputs": [],
   "source": [
    "#正規化準備\n",
    "result_max = result.max()\n",
    "result_min = result.min()\n",
    "# 0-255に正規化\n",
    "result = (result - result_min) * (255 - 0) / (result_max - result_min)\n",
    "\n",
    "#intに変換する.グレースケールはintだから\n",
    "result = np.floor(result)\n",
    "result = result.astype(np.int)\n",
    "result = result.reshape(size[1],-1)"
   ]
  },
  {
   "cell_type": "code",
   "execution_count": 300,
   "metadata": {
    "scrolled": true
   },
   "outputs": [],
   "source": [
    "cv2.imwrite(\"./output/output.jpg\", result)\n",
    "# 元となる画像の読み込み\n",
    "img = cv2.imread(\"./output/output.jpg\")\n",
    "ratio = 3\n",
    "big_size = (size[0]*3,size[1]*3)\n",
    "img =  cv2.resize(img, big_size)"
   ]
  },
  {
   "cell_type": "code",
   "execution_count": 301,
   "metadata": {},
   "outputs": [
    {
     "name": "stdout",
     "output_type": "stream",
     "text": [
      "入力画像\n"
     ]
    },
    {
     "data": {
      "image/jpeg": "[encoded data removed]",
      "text/plain": [
       "<IPython.core.display.Image object>"
      ]
     },
     "metadata": {},
     "output_type": "display_data"
    }
   ],
   "source": [
    "print(\"入力画像\")\n",
    "input_img = cv2.imread(\"./img/test.jpg\", cv2.IMREAD_GRAYSCALE)\n",
    "input_img = cv2.resize(input_img, big_size)\n",
    "display_cv_image(input_img)"
   ]
  },
  {
   "cell_type": "code",
   "execution_count": 302,
   "metadata": {},
   "outputs": [
    {
     "name": "stdout",
     "output_type": "stream",
     "text": [
      "推測画像\n"
     ]
    },
    {
     "data": {
      "image/jpeg": "[encoded data removed]",
      "text/plain": [
       "<IPython.core.display.Image object>"
      ]
     },
     "metadata": {},
     "output_type": "display_data"
    }
   ],
   "source": [
    "print(\"推測画像\")\n",
    "display_cv_image(img)"
   ]
  },
  {
   "cell_type": "code",
   "execution_count": null,
   "metadata": {},
   "outputs": [],
   "source": []
  }
 ],
 "metadata": {
  "kernelspec": {
   "display_name": "Python 3",
   "language": "python",
   "name": "python3"
  },
  "language_info": {
   "codemirror_mode": {
    "name": "ipython",
    "version": 3
   },
   "file_extension": ".py",
   "mimetype": "text/x-python",
   "name": "python",
   "nbconvert_exporter": "python",
   "pygments_lexer": "ipython3",
   "version": "3.6.1"
  }
 },
 "nbformat": 4,
 "nbformat_minor": 2
}
