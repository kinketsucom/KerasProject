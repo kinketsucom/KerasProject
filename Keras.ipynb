{
 "cells": [
  {
   "cell_type": "code",
   "execution_count": 2,
   "metadata": {},
   "outputs": [],
   "source": [
    "import keras\n",
    "from keras.models import Sequential\n",
    "from keras.layers import Dense, Activation,  Dropout\n",
    "from keras.layers.convolutional import Conv2D, MaxPooling2D\n",
    "import cv2\n",
    "from PIL import Image\n",
    "import matplotlib.pyplot as plt\n",
    "import numpy as np# 元となる画像の読み込み\n",
    "%matplotlib inline"
   ]
  },
  {
   "cell_type": "code",
   "execution_count": 45,
   "metadata": {},
   "outputs": [],
   "source": [
    "# opencv画像入力用\n",
    "from IPython.display import display, Image\n",
    "\n",
    "def display_cv_image(image, format='.JPG'):\n",
    "    decoded_bytes = cv2.imencode(format, image)[1].tobytes()\n",
    "    display(Image(data=decoded_bytes))\n",
    "\n",
    "def readyForGuess(img_name):\n",
    "    img = cv2.imread( \"./img/\"+img_name+\".jpg\", cv2.IMREAD_GRAYSCALE)\n",
    "    width = 100\n",
    "    size = (width,width)\n",
    "    #Create Small Size Image\n",
    "    length=size[0]*size[1]\n",
    "    img = cv2.resize(img, size)\n",
    "    img_dat = img/255\n",
    "    img_dat = img_dat.reshape(1,length)\n",
    "    return img_dat"
   ]
  },
  {
   "cell_type": "code",
   "execution_count": 46,
   "metadata": {},
   "outputs": [],
   "source": [
    "# 元となる画像の読み込み\n",
    "bef_img = cv2.imread( './img/bef.JPG', cv2.IMREAD_GRAYSCALE)\n",
    "aft_img = cv2.imread('./img/aft.JPG', cv2.IMREAD_GRAYSCALE) "
   ]
  },
  {
   "cell_type": "code",
   "execution_count": 61,
   "metadata": {},
   "outputs": [],
   "source": [
    "width = 40\n",
    "size = (3*width,4*width)\n",
    "#Create Small Size Image\n",
    "bef_img = cv2.resize(bef_img, size)\n",
    "aft_img = cv2.resize(aft_img, size)"
   ]
  },
  {
   "cell_type": "code",
   "execution_count": 80,
   "metadata": {},
   "outputs": [],
   "source": [
    "bef_dat = bef_img/255\n",
    "aft_dat = aft_img/255\n",
    "hoge = bef_dat\n",
    "length=size[0]*size[1]\n",
    "bef_dat = bef_dat.reshape(1,length)\n",
    "aft_dat = aft_dat.reshape(1,length)"
   ]
  },
  {
   "cell_type": "markdown",
   "metadata": {},
   "source": [
    "# ニューラルネットを作成"
   ]
  },
  {
   "cell_type": "code",
   "execution_count": 85,
   "metadata": {
    "scrolled": true
   },
   "outputs": [
    {
     "name": "stdout",
     "output_type": "stream",
     "text": [
      "_________________________________________________________________\n",
      "Layer (type)                 Output Shape              Param #   \n",
      "=================================================================\n",
      "dense_13 (Dense)             (None, 19200)             368659200 \n",
      "_________________________________________________________________\n",
      "activation_13 (Activation)   (None, 19200)             0         \n",
      "_________________________________________________________________\n",
      "dense_14 (Dense)             (None, 19200)             368659200 \n",
      "=================================================================\n",
      "Total params: 737,318,400\n",
      "Trainable params: 737,318,400\n",
      "Non-trainable params: 0\n",
      "_________________________________________________________________\n"
     ]
    }
   ],
   "source": [
    "NN = Sequential() #空のニューラルネット\n",
    "NN.add(Dense(length, input_dim=length))\n",
    "NN.add(Activation('relu'))\n",
    "NN.add(Dense(length))\n",
    "NN.summary()\n",
    "NN.compile(optimizer='adam',loss='mse',metrics = ['accuracy'])"
   ]
  },
  {
   "cell_type": "code",
   "execution_count": 86,
   "metadata": {},
   "outputs": [
    {
     "name": "stdout",
     "output_type": "stream",
     "text": [
      "***\n",
      "[[ 0.  0.  0. ...,  0.  0.  0.]]\n",
      "***\n",
      "[[ 0.  0.  0. ...,  0.  0.  0.]]\n",
      "(160, 120)\n"
     ]
    }
   ],
   "source": [
    "print(\"***\")\n",
    "print(bef_dat)\n",
    "print(\"***\")\n",
    "print(aft_dat)\n",
    "print(hoge.shape)"
   ]
  },
  {
   "cell_type": "code",
   "execution_count": null,
   "metadata": {},
   "outputs": [
    {
     "name": "stdout",
     "output_type": "stream",
     "text": [
      "Epoch 1/10\n",
      "1/1 [==============================] - 146s - loss: 0.7053 - acc: 0.0000e+00\n",
      "Epoch 2/10\n",
      "1/1 [==============================] - 255s - loss: 872.5034 - acc: 0.0000e+00\n",
      "Epoch 3/10\n"
     ]
    }
   ],
   "source": [
    "NN.fit(aft_dat,bef_dat, epochs=10)"
   ]
  },
  {
   "cell_type": "markdown",
   "metadata": {},
   "source": [
    "# 予想したいデータの入力"
   ]
  },
  {
   "cell_type": "code",
   "execution_count": 76,
   "metadata": {},
   "outputs": [],
   "source": [
    "img_name = \"aft\" #ファイル名のみ\n",
    "guess_dat = readyForGuess(img_name)\n",
    "result = NN.predict(guess_dat)"
   ]
  },
  {
   "cell_type": "code",
   "execution_count": 78,
   "metadata": {},
   "outputs": [
    {
     "ename": "ValueError",
     "evalue": "cannot reshape array of size 10000 into shape (120,newaxis)",
     "output_type": "error",
     "traceback": [
      "\u001b[0;31m---------------------------------------------------------------------------\u001b[0m",
      "\u001b[0;31mValueError\u001b[0m                                Traceback (most recent call last)",
      "\u001b[0;32m<ipython-input-78-e3725917b755>\u001b[0m in \u001b[0;36m<module>\u001b[0;34m()\u001b[0m\n\u001b[1;32m      8\u001b[0m \u001b[0mresult\u001b[0m \u001b[0;34m=\u001b[0m \u001b[0mnp\u001b[0m\u001b[0;34m.\u001b[0m\u001b[0mfloor\u001b[0m\u001b[0;34m(\u001b[0m\u001b[0mresult\u001b[0m\u001b[0;34m)\u001b[0m\u001b[0;34m\u001b[0m\u001b[0m\n\u001b[1;32m      9\u001b[0m \u001b[0mresult\u001b[0m \u001b[0;34m=\u001b[0m \u001b[0mresult\u001b[0m\u001b[0;34m.\u001b[0m\u001b[0mastype\u001b[0m\u001b[0;34m(\u001b[0m\u001b[0mnp\u001b[0m\u001b[0;34m.\u001b[0m\u001b[0mint\u001b[0m\u001b[0;34m)\u001b[0m\u001b[0;34m\u001b[0m\u001b[0m\n\u001b[0;32m---> 10\u001b[0;31m \u001b[0mresult\u001b[0m \u001b[0;34m=\u001b[0m \u001b[0mresult\u001b[0m\u001b[0;34m.\u001b[0m\u001b[0mreshape\u001b[0m\u001b[0;34m(\u001b[0m\u001b[0msize\u001b[0m\u001b[0;34m[\u001b[0m\u001b[0;36m0\u001b[0m\u001b[0;34m]\u001b[0m\u001b[0;34m,\u001b[0m\u001b[0;34m-\u001b[0m\u001b[0;36m1\u001b[0m\u001b[0;34m)\u001b[0m\u001b[0;34m\u001b[0m\u001b[0m\n\u001b[0m",
      "\u001b[0;31mValueError\u001b[0m: cannot reshape array of size 10000 into shape (120,newaxis)"
     ]
    }
   ],
   "source": [
    "#正規化準備\n",
    "result_max = result.max()\n",
    "result_min = result.min()\n",
    "# 0-255に正規化\n",
    "result = (result - result_min) * (255 - 0) / (result_max - result_min)\n",
    "\n",
    "#intに変換する.グレースケールはintだから\n",
    "result = np.floor(result)\n",
    "result = result.astype(np.int)\n",
    "result = result.reshape(size[0],-1)"
   ]
  },
  {
   "cell_type": "code",
   "execution_count": 64,
   "metadata": {
    "scrolled": true
   },
   "outputs": [
    {
     "name": "stdout",
     "output_type": "stream",
     "text": [
      "推測画像\n"
     ]
    },
    {
     "data": {
      "image/jpeg": "[encoded data removed]",
      "text/plain": [
       "<IPython.core.display.Image object>"
      ]
     },
     "metadata": {},
     "output_type": "display_data"
    }
   ],
   "source": [
    "cv2.imwrite(\"./img/output.jpg\", result)\n",
    "# 元となる画像の読み込み\n",
    "img = cv2.imread(\"./img/output.jpg\")\n",
    "print(\"推測画像\")\n",
    "display_cv_image(img)"
   ]
  },
  {
   "cell_type": "code",
   "execution_count": 37,
   "metadata": {},
   "outputs": [
    {
     "name": "stdout",
     "output_type": "stream",
     "text": [
      "これから\n"
     ]
    },
    {
     "data": {
      "image/jpeg": "[encoded data removed]",
      "text/plain": [
       "<IPython.core.display.Image object>"
      ]
     },
     "metadata": {},
     "output_type": "display_data"
    },
    {
     "name": "stdout",
     "output_type": "stream",
     "text": [
      "これを推測\n"
     ]
    },
    {
     "data": {
      "image/jpeg": "[encoded data removed]",
      "text/plain": [
       "<IPython.core.display.Image object>"
      ]
     },
     "metadata": {},
     "output_type": "display_data"
    }
   ],
   "source": [
    "print(\"これから\")\n",
    "display_cv_image(aft_img)\n",
    "print(\"これを推測\")\n",
    "display_cv_image(bef_img)\n"
   ]
  },
  {
   "cell_type": "code",
   "execution_count": null,
   "metadata": {},
   "outputs": [],
   "source": []
  }
 ],
 "metadata": {
  "kernelspec": {
   "display_name": "Python 3",
   "language": "python",
   "name": "python3"
  },
  "language_info": {
   "codemirror_mode": {
    "name": "ipython",
    "version": 3
   },
   "file_extension": ".py",
   "mimetype": "text/x-python",
   "name": "python",
   "nbconvert_exporter": "python",
   "pygments_lexer": "ipython3",
   "version": "3.6.1"
  }
 },
 "nbformat": 4,
 "nbformat_minor": 2
}
